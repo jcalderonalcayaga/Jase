{
 "cells": [
  {
   "cell_type": "code",
   "execution_count": 1,
   "metadata": {},
   "outputs": [
    {
     "data": {
      "text/plain": [
       "'/Users/jason/Complete-Python-3-Bootcamp-master/13-Advanced Python Modules'"
      ]
     },
     "execution_count": 1,
     "metadata": {},
     "output_type": "execute_result"
    }
   ],
   "source": [
    "pwd"
   ]
  },
  {
   "cell_type": "code",
   "execution_count": 6,
   "metadata": {},
   "outputs": [],
   "source": [
    "f = open('practice.txt','w+')\n",
    "f.write('This is a test string')\n",
    "f.close()"
   ]
  },
  {
   "cell_type": "code",
   "execution_count": 7,
   "metadata": {},
   "outputs": [],
   "source": [
    "import os"
   ]
  },
  {
   "cell_type": "code",
   "execution_count": 8,
   "metadata": {},
   "outputs": [
    {
     "data": {
      "text/plain": [
       "'/Users/jason/Complete-Python-3-Bootcamp-master/13-Advanced Python Modules'"
      ]
     },
     "execution_count": 8,
     "metadata": {},
     "output_type": "execute_result"
    }
   ],
   "source": [
    "os.getcwd()"
   ]
  },
  {
   "cell_type": "code",
   "execution_count": 19,
   "metadata": {},
   "outputs": [
    {
     "data": {
      "text/plain": [
       "['Untitled.ipynb',\n",
       " '03-Python Debugger (pdb).ipynb',\n",
       " '05-Regular Expressions - re.ipynb',\n",
       " 'practice.txt',\n",
       " '06-StringIO.ipynb',\n",
       " '02-Datetime.ipynb',\n",
       " '01-Collections Module.ipynb',\n",
       " '.ipynb_checkpoints',\n",
       " '04-Timing your code - timeit.ipynb']"
      ]
     },
     "execution_count": 19,
     "metadata": {},
     "output_type": "execute_result"
    }
   ],
   "source": [
    "os.listdir()"
   ]
  },
  {
   "cell_type": "code",
   "execution_count": 20,
   "metadata": {},
   "outputs": [],
   "source": [
    "import shutil"
   ]
  },
  {
   "cell_type": "code",
   "execution_count": 26,
   "metadata": {},
   "outputs": [
    {
     "data": {
      "text/plain": [
       "'/Users/jason/Complete-Python-3-Bootcamp-master/13-Advanced Python Modules/practice.txt'"
      ]
     },
     "execution_count": 26,
     "metadata": {},
     "output_type": "execute_result"
    }
   ],
   "source": [
    "shutil.move('/Users/jason/practice.txt',os.getcwd())"
   ]
  },
  {
   "cell_type": "code",
   "execution_count": 27,
   "metadata": {},
   "outputs": [
    {
     "data": {
      "text/plain": [
       "['Untitled.ipynb',\n",
       " '03-Python Debugger (pdb).ipynb',\n",
       " '05-Regular Expressions - re.ipynb',\n",
       " 'practice.txt',\n",
       " '06-StringIO.ipynb',\n",
       " '02-Datetime.ipynb',\n",
       " '01-Collections Module.ipynb',\n",
       " '.ipynb_checkpoints',\n",
       " '04-Timing your code - timeit.ipynb']"
      ]
     },
     "execution_count": 27,
     "metadata": {},
     "output_type": "execute_result"
    }
   ],
   "source": [
    "os.listdir()"
   ]
  },
  {
   "cell_type": "code",
   "execution_count": 24,
   "metadata": {},
   "outputs": [],
   "source": [
    "import send2trash"
   ]
  },
  {
   "cell_type": "code",
   "execution_count": 25,
   "metadata": {},
   "outputs": [
    {
     "data": {
      "text/plain": [
       "['Untitled.ipynb',\n",
       " '03-Python Debugger (pdb).ipynb',\n",
       " '05-Regular Expressions - re.ipynb',\n",
       " '06-StringIO.ipynb',\n",
       " '02-Datetime.ipynb',\n",
       " '01-Collections Module.ipynb',\n",
       " '.ipynb_checkpoints',\n",
       " '04-Timing your code - timeit.ipynb']"
      ]
     },
     "execution_count": 25,
     "metadata": {},
     "output_type": "execute_result"
    }
   ],
   "source": [
    "os.listdir()"
   ]
  },
  {
   "cell_type": "code",
   "execution_count": 28,
   "metadata": {},
   "outputs": [],
   "source": [
    "send2trash.send2trash('practice.txt')"
   ]
  },
  {
   "cell_type": "code",
   "execution_count": 29,
   "metadata": {},
   "outputs": [
    {
     "data": {
      "text/plain": [
       "['Untitled.ipynb',\n",
       " '03-Python Debugger (pdb).ipynb',\n",
       " '05-Regular Expressions - re.ipynb',\n",
       " '06-StringIO.ipynb',\n",
       " '02-Datetime.ipynb',\n",
       " '01-Collections Module.ipynb',\n",
       " '.ipynb_checkpoints',\n",
       " '04-Timing your code - timeit.ipynb']"
      ]
     },
     "execution_count": 29,
     "metadata": {},
     "output_type": "execute_result"
    }
   ],
   "source": [
    "os.listdir()"
   ]
  },
  {
   "cell_type": "code",
   "execution_count": 30,
   "metadata": {},
   "outputs": [
    {
     "data": {
      "text/plain": [
       "'/Users/jason/Complete-Python-3-Bootcamp-master/13-Advanced Python Modules'"
      ]
     },
     "execution_count": 30,
     "metadata": {},
     "output_type": "execute_result"
    }
   ],
   "source": [
    "os.getcwd()"
   ]
  },
  {
   "cell_type": "code",
   "execution_count": 33,
   "metadata": {},
   "outputs": [
    {
     "name": "stdout",
     "output_type": "stream",
     "text": [
      "Currently looking at /Users/jason/Complete-Python-3-Bootcamp-master/13-Advanced Python Modules\n",
      "\n",
      "\n",
      "The subfolders are: \n",
      "Subfolder: .ipynb_checkpoints\n",
      "\n",
      "\n",
      "The files are: \n",
      "\t File: Untitled.ipynb\n",
      "\t File: 03-Python Debugger (pdb).ipynb\n",
      "\t File: 05-Regular Expressions - re.ipynb\n",
      "\t File: 06-StringIO.ipynb\n",
      "\t File: 02-Datetime.ipynb\n",
      "\t File: 01-Collections Module.ipynb\n",
      "\t File: 04-Timing your code - timeit.ipynb\n",
      "\n",
      "\n",
      "Currently looking at /Users/jason/Complete-Python-3-Bootcamp-master/13-Advanced Python Modules/.ipynb_checkpoints\n",
      "\n",
      "\n",
      "The subfolders are: \n",
      "\n",
      "\n",
      "The files are: \n",
      "\t File: 05-Regular Expressions - re-checkpoint.ipynb\n",
      "\t File: 02-Datetime-checkpoint.ipynb\n",
      "\t File: 04-Timing your code - timeit-checkpoint.ipynb\n",
      "\t File: 03-Python Debugger (pdb)-checkpoint.ipynb\n",
      "\t File: 06-StringIO-checkpoint.ipynb\n",
      "\t File: 01-Collections Module-checkpoint.ipynb\n",
      "\t File: Untitled-checkpoint.ipynb\n",
      "\n",
      "\n"
     ]
    }
   ],
   "source": [
    "file_path = '/Users/jason/Complete-Python-3-Bootcamp-master/13-Advanced Python Modules'\n",
    "for folder,sub_folders, files in os.walk(file_path):\n",
    "    print(f\"Currently looking at {folder}\")\n",
    "    print('\\n')\n",
    "    print('The subfolders are: ')\n",
    "    for sub_fold in sub_folders:\n",
    "        print(f\"Subfolder: {sub_fold}\")\n",
    "        \n",
    "    print(\"\\n\")\n",
    "    print(\"The files are: \")\n",
    "    for f in files:\n",
    "        print(f\"\\t File: {f}\")\n",
    "    print('\\n')"
   ]
  },
  {
   "cell_type": "code",
   "execution_count": 36,
   "metadata": {},
   "outputs": [
    {
     "data": {
      "text/plain": [
       "['opening_reading_files_and_folders_OSmodule.ipynb',\n",
       " '03-Python Debugger (pdb).ipynb',\n",
       " '05-Regular Expressions - re.ipynb',\n",
       " '06-StringIO.ipynb',\n",
       " '02-Datetime.ipynb',\n",
       " '01-Collections Module.ipynb',\n",
       " '.ipynb_checkpoints',\n",
       " '04-Timing your code - timeit.ipynb']"
      ]
     },
     "execution_count": 36,
     "metadata": {},
     "output_type": "execute_result"
    }
   ],
   "source": [
    "os.listdir()"
   ]
  },
  {
   "cell_type": "code",
   "execution_count": 38,
   "metadata": {},
   "outputs": [
    {
     "data": {
      "text/plain": [
       "'/Users/jason/opening_reading_files_and_folders_OSmodule.ipynb'"
      ]
     },
     "execution_count": 38,
     "metadata": {},
     "output_type": "execute_result"
    }
   ],
   "source": [
    "shutil.move('opening_reading_files_and_folders_OSmodule.ipynb','/Users/jason')"
   ]
  },
  {
   "cell_type": "code",
   "execution_count": null,
   "metadata": {},
   "outputs": [],
   "source": []
  }
 ],
 "metadata": {
  "kernelspec": {
   "display_name": "Python 3",
   "language": "python",
   "name": "python3"
  },
  "language_info": {
   "codemirror_mode": {
    "name": "ipython",
    "version": 3
   },
   "file_extension": ".py",
   "mimetype": "text/x-python",
   "name": "python",
   "nbconvert_exporter": "python",
   "pygments_lexer": "ipython3",
   "version": "3.7.3"
  }
 },
 "nbformat": 4,
 "nbformat_minor": 2
}
